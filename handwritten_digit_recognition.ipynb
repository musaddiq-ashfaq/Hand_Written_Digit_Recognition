{
  "nbformat": 4,
  "nbformat_minor": 0,
  "metadata": {
    "colab": {
      "provenance": []
    },
    "kernelspec": {
      "name": "python3",
      "display_name": "Python 3"
    },
    "language_info": {
      "name": "python"
    }
  },
  "cells": [
    {
      "cell_type": "code",
      "execution_count": 12,
      "metadata": {
        "id": "hdMF82PnFde7"
      },
      "outputs": [],
      "source": [
        "from keras.models import Sequential\n",
        "from keras.layers import Dense, Conv2D, Flatten, MaxPool2D\n",
        "from keras.datasets import mnist"
      ]
    },
    {
      "cell_type": "code",
      "source": [
        "(X_train,y_train), (X_test, y_test) = mnist.load_data()"
      ],
      "metadata": {
        "id": "ez3M2EMjF9ok"
      },
      "execution_count": 13,
      "outputs": []
    },
    {
      "cell_type": "code",
      "source": [
        "print(X_train.shape)\n",
        "print(X_test.shape)"
      ],
      "metadata": {
        "colab": {
          "base_uri": "https://localhost:8080/"
        },
        "id": "51bZMC3CGVs_",
        "outputId": "6558586e-66ee-4dfc-afba-f2a429156df3"
      },
      "execution_count": 14,
      "outputs": [
        {
          "output_type": "stream",
          "name": "stdout",
          "text": [
            "(60000, 28, 28)\n",
            "(10000, 28, 28)\n"
          ]
        }
      ]
    },
    {
      "cell_type": "code",
      "source": [
        "X_train = X_train.reshape(X_train.shape[0],28,28,1)\n",
        "X_test = X_test.reshape(X_test.shape[0],28,28,1)"
      ],
      "metadata": {
        "id": "KBEaoWFlGfIN"
      },
      "execution_count": 15,
      "outputs": []
    },
    {
      "cell_type": "code",
      "source": [
        "model = Sequential()\n",
        "model.add(Conv2D(64, kernel_size= 3, activation = 'relu', input_shape = (28,28,1)))\n",
        "model.add(MaxPool2D(pool_size = (2,2)))\n",
        "model.add(Conv2D(32,kernel_size = 3, activation = 'relu'))\n",
        "model.add(MaxPool2D(pool_size = (2,2)))\n",
        "model.add(Flatten())\n",
        "model.add(Dense(10,activation = 'softmax'))"
      ],
      "metadata": {
        "id": "uoinLiPZG9tc"
      },
      "execution_count": 22,
      "outputs": []
    },
    {
      "cell_type": "code",
      "source": [
        "model.compile(optimizer = 'adam',loss = 'sparse_categorical_crossentropy',metrics = ['accuracy'])"
      ],
      "metadata": {
        "id": "CMW0wHjtIi5J"
      },
      "execution_count": 23,
      "outputs": []
    },
    {
      "cell_type": "code",
      "source": [
        "history = model.fit(X_train,y_train,epochs = 5, batch_size = 32)"
      ],
      "metadata": {
        "colab": {
          "base_uri": "https://localhost:8080/"
        },
        "id": "D9pHHaOuJeac",
        "outputId": "6e585ade-c79b-4412-909c-bde49250ed83"
      },
      "execution_count": 24,
      "outputs": [
        {
          "output_type": "stream",
          "name": "stdout",
          "text": [
            "Epoch 1/5\n",
            "1875/1875 [==============================] - 92s 49ms/step - loss: 0.3780 - accuracy: 0.9314\n",
            "Epoch 2/5\n",
            "1875/1875 [==============================] - 93s 49ms/step - loss: 0.0824 - accuracy: 0.9754\n",
            "Epoch 3/5\n",
            "1875/1875 [==============================] - 88s 47ms/step - loss: 0.0650 - accuracy: 0.9801\n",
            "Epoch 4/5\n",
            "1875/1875 [==============================] - 90s 48ms/step - loss: 0.0561 - accuracy: 0.9832\n",
            "Epoch 5/5\n",
            "1875/1875 [==============================] - 91s 48ms/step - loss: 0.0507 - accuracy: 0.9847\n"
          ]
        }
      ]
    },
    {
      "cell_type": "code",
      "source": [
        "test_loss , test_accuracy = model.evaluate(X_test, y_test)"
      ],
      "metadata": {
        "id": "4UpWOs5dKHud"
      },
      "execution_count": null,
      "outputs": []
    },
    {
      "cell_type": "code",
      "source": [
        "print(test_accuracy)"
      ],
      "metadata": {
        "colab": {
          "base_uri": "https://localhost:8080/"
        },
        "id": "t4mtj66dPbRN",
        "outputId": "b99f51df-83c6-4f52-af8f-67bee8f308b9"
      },
      "execution_count": 26,
      "outputs": [
        {
          "output_type": "stream",
          "name": "stdout",
          "text": [
            "0.9818000197410583\n"
          ]
        }
      ]
    },
    {
      "cell_type": "code",
      "source": [],
      "metadata": {
        "id": "ROEkUF4mPhk7"
      },
      "execution_count": null,
      "outputs": []
    }
  ]
}